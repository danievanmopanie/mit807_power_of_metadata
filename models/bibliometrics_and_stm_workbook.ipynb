{
 "cells": [
  {
   "cell_type": "markdown",
   "id": "966af0e7",
   "metadata": {},
   "source": [
    "# STM: Technology Management Topic Identification"
   ]
  },
  {
   "cell_type": "markdown",
   "id": "715e6b8f",
   "metadata": {},
   "source": [
    "## Setting Up Environment "
   ]
  },
  {
   "cell_type": "code",
   "execution_count": 1,
   "id": "aafa5e01",
   "metadata": {},
   "outputs": [
    {
     "data": {
      "text/html": [
       "'/Users/danieungerer/Documents/Meesters/Klasse/MIT807/mit807_power_of_metadata/models'"
      ],
      "text/latex": [
       "'/Users/danieungerer/Documents/Meesters/Klasse/MIT807/mit807\\_power\\_of\\_metadata/models'"
      ],
      "text/markdown": [
       "'/Users/danieungerer/Documents/Meesters/Klasse/MIT807/mit807_power_of_metadata/models'"
      ],
      "text/plain": [
       "[1] \"/Users/danieungerer/Documents/Meesters/Klasse/MIT807/mit807_power_of_metadata/models\""
      ]
     },
     "metadata": {},
     "output_type": "display_data"
    },
    {
     "data": {
      "text/html": [
       "'/Users/danieungerer/Documents/Meesters/Klasse/MIT807/mit807_power_of_metadata/data/scopus'"
      ],
      "text/latex": [
       "'/Users/danieungerer/Documents/Meesters/Klasse/MIT807/mit807\\_power\\_of\\_metadata/data/scopus'"
      ],
      "text/markdown": [
       "'/Users/danieungerer/Documents/Meesters/Klasse/MIT807/mit807_power_of_metadata/data/scopus'"
      ],
      "text/plain": [
       "[1] \"/Users/danieungerer/Documents/Meesters/Klasse/MIT807/mit807_power_of_metadata/data/scopus\""
      ]
     },
     "metadata": {},
     "output_type": "display_data"
    }
   ],
   "source": [
    "#set sorking directory\n",
    "getwd()\n",
    "path = \"/Users/danieungerer/Documents/Meesters/Klasse/MIT807/mit807_power_of_metadata/data/scopus\"\n",
    "setwd(path)\n",
    "getwd()"
   ]
  },
  {
   "cell_type": "code",
   "execution_count": null,
   "id": "5c317218",
   "metadata": {},
   "outputs": [],
   "source": [
    "install.packages(\"bibliometrix\")"
   ]
  },
  {
   "cell_type": "code",
   "execution_count": 3,
   "id": "550858a3",
   "metadata": {},
   "outputs": [
    {
     "name": "stderr",
     "output_type": "stream",
     "text": [
      "also installing the dependencies ‘isoband’, ‘Rcpp’, ‘matrixStats’, ‘RcppArmadillo’, ‘viridisLite’, ‘ggplot2’, ‘broom’, ‘tibble’, ‘corrplot’, ‘SparseM’, ‘MatrixModels’, ‘conquer’, ‘sp’, ‘minqa’, ‘nloptr’, ‘RcppEigen’, ‘glue’, ‘pillar’, ‘viridis’, ‘ggsci’, ‘cowplot’, ‘ggsignif’, ‘gridExtra’, ‘polynom’, ‘rstatix’, ‘carData’, ‘pbkrtest’, ‘quantreg’, ‘maptools’, ‘rio’, ‘lme4’, ‘dplyr’, ‘tidyselect’, ‘cpp11’, ‘ellipsis’, ‘crosstalk’, ‘jquerylib’, ‘abind’, ‘dendextend’, ‘ggpubr’, ‘car’, ‘ellipse’, ‘flashClust’, ‘leaps’, ‘scatterplot3d’, ‘htmlwidgets’, ‘tidyr’, ‘vctrs’, ‘rlang’, ‘zip’, ‘rentrez’, ‘XML’, ‘hunspell’, ‘lifecycle’, ‘tokenizers’, ‘janeaustenr’, ‘bibliometrixData’, ‘dimensionsR’, ‘DT’, ‘factoextra’, ‘FactoMineR’, ‘ggrepel’, ‘igraph’, ‘plotly’, ‘openxlsx’, ‘pubmedR’, ‘rscopus’, ‘SnowballC’, ‘stringdist’, ‘tidytext’\n",
      "\n",
      "Warning message in install.packages(\"bibliometrix\"):\n",
      "“installation of package ‘isoband’ had non-zero exit status”Warning message in install.packages(\"bibliometrix\"):\n",
      "“installation of package ‘XML’ had non-zero exit status”Warning message in install.packages(\"bibliometrix\"):\n",
      "“installation of package ‘RcppArmadillo’ had non-zero exit status”Warning message in install.packages(\"bibliometrix\"):\n",
      "“installation of package ‘rentrez’ had non-zero exit status”Warning message in install.packages(\"bibliometrix\"):\n",
      "“installation of package ‘hunspell’ had non-zero exit status”Warning message in install.packages(\"bibliometrix\"):\n",
      "“installation of package ‘conquer’ had non-zero exit status”Warning message in install.packages(\"bibliometrix\"):\n",
      "“installation of package ‘pubmedR’ had non-zero exit status”Warning message in install.packages(\"bibliometrix\"):\n",
      "“installation of package ‘quantreg’ had non-zero exit status”Warning message in install.packages(\"bibliometrix\"):\n",
      "“installation of package ‘ggplot2’ had non-zero exit status”Warning message in install.packages(\"bibliometrix\"):\n",
      "“installation of package ‘viridis’ had non-zero exit status”Warning message in install.packages(\"bibliometrix\"):\n",
      "“installation of package ‘ggsci’ had non-zero exit status”Warning message in install.packages(\"bibliometrix\"):\n",
      "“installation of package ‘cowplot’ had non-zero exit status”Warning message in install.packages(\"bibliometrix\"):\n",
      "“installation of package ‘ggsignif’ had non-zero exit status”Warning message in install.packages(\"bibliometrix\"):\n",
      "“installation of package ‘tidyr’ had non-zero exit status”Warning message in install.packages(\"bibliometrix\"):\n",
      "“installation of package ‘ggrepel’ had non-zero exit status”Warning message in install.packages(\"bibliometrix\"):\n",
      "“installation of package ‘tidytext’ had non-zero exit status”Warning message in install.packages(\"bibliometrix\"):\n",
      "“installation of package ‘broom’ had non-zero exit status”Warning message in install.packages(\"bibliometrix\"):\n",
      "“installation of package ‘dendextend’ had non-zero exit status”Warning message in install.packages(\"bibliometrix\"):\n",
      "“installation of package ‘plotly’ had non-zero exit status”Warning message in install.packages(\"bibliometrix\"):\n",
      "“installation of package ‘car’ had non-zero exit status”Warning message in install.packages(\"bibliometrix\"):\n",
      "“installation of package ‘rstatix’ had non-zero exit status”Warning message in install.packages(\"bibliometrix\"):\n",
      "“installation of package ‘FactoMineR’ had non-zero exit status”Warning message in install.packages(\"bibliometrix\"):\n",
      "“installation of package ‘ggpubr’ had non-zero exit status”Warning message in install.packages(\"bibliometrix\"):\n",
      "“installation of package ‘factoextra’ had non-zero exit status”Warning message in install.packages(\"bibliometrix\"):\n",
      "“installation of package ‘bibliometrix’ had non-zero exit status”Updating HTML index of packages in '.Library'\n",
      "Making 'packages.html' ... done\n"
     ]
    },
    {
     "ename": "ERROR",
     "evalue": "Error in library(bibliometrix): there is no package called ‘bibliometrix’\n",
     "output_type": "error",
     "traceback": [
      "Error in library(bibliometrix): there is no package called ‘bibliometrix’\nTraceback:\n",
      "1. library(bibliometrix)"
     ]
    }
   ],
   "source": [
    "#load all packages\n",
    "\n",
    "library(bibliometrix)\n",
    "library(dplyr)\n",
    "library(tidyr)"
   ]
  },
  {
   "cell_type": "markdown",
   "id": "ad90959e",
   "metadata": {},
   "source": [
    "## Reading the Data"
   ]
  },
  {
   "cell_type": "code",
   "execution_count": 4,
   "id": "d46cdd5d",
   "metadata": {},
   "outputs": [
    {
     "data": {
      "text/html": [
       "<ol class=list-inline>\n",
       "\t<li>'scopus_1959_to_1979.bib'</li>\n",
       "\t<li>'scopus_1980_to_2002.bib'</li>\n",
       "\t<li>'scopus_2003_to_2008.bib'</li>\n",
       "\t<li>'scopus_2009_to_2012.bib'</li>\n",
       "\t<li>'scopus_2013_to_2015.bib'</li>\n",
       "\t<li>'scopus_2016_to_2018.bib'</li>\n",
       "\t<li>'scopus_2019_to_2021.bib'</li>\n",
       "\t<li>'topics_listed.csv'</li>\n",
       "</ol>\n"
      ],
      "text/latex": [
       "\\begin{enumerate*}\n",
       "\\item 'scopus\\_1959\\_to\\_1979.bib'\n",
       "\\item 'scopus\\_1980\\_to\\_2002.bib'\n",
       "\\item 'scopus\\_2003\\_to\\_2008.bib'\n",
       "\\item 'scopus\\_2009\\_to\\_2012.bib'\n",
       "\\item 'scopus\\_2013\\_to\\_2015.bib'\n",
       "\\item 'scopus\\_2016\\_to\\_2018.bib'\n",
       "\\item 'scopus\\_2019\\_to\\_2021.bib'\n",
       "\\item 'topics\\_listed.csv'\n",
       "\\end{enumerate*}\n"
      ],
      "text/markdown": [
       "1. 'scopus_1959_to_1979.bib'\n",
       "2. 'scopus_1980_to_2002.bib'\n",
       "3. 'scopus_2003_to_2008.bib'\n",
       "4. 'scopus_2009_to_2012.bib'\n",
       "5. 'scopus_2013_to_2015.bib'\n",
       "6. 'scopus_2016_to_2018.bib'\n",
       "7. 'scopus_2019_to_2021.bib'\n",
       "8. 'topics_listed.csv'\n",
       "\n",
       "\n"
      ],
      "text/plain": [
       "[1] \"scopus_1959_to_1979.bib\" \"scopus_1980_to_2002.bib\"\n",
       "[3] \"scopus_2003_to_2008.bib\" \"scopus_2009_to_2012.bib\"\n",
       "[5] \"scopus_2013_to_2015.bib\" \"scopus_2016_to_2018.bib\"\n",
       "[7] \"scopus_2019_to_2021.bib\" \"topics_listed.csv\"      "
      ]
     },
     "metadata": {},
     "output_type": "display_data"
    }
   ],
   "source": [
    "#read bibtex format\n",
    "list.files()"
   ]
  },
  {
   "cell_type": "code",
   "execution_count": 5,
   "id": "7e91c947",
   "metadata": {},
   "outputs": [
    {
     "data": {
      "text/html": [
       "<ol class=list-inline>\n",
       "\t<li>'./scopus_1959_to_1979.bib'</li>\n",
       "\t<li>'./scopus_1980_to_2002.bib'</li>\n",
       "\t<li>'./scopus_2003_to_2008.bib'</li>\n",
       "\t<li>'./scopus_2009_to_2012.bib'</li>\n",
       "\t<li>'./scopus_2013_to_2015.bib'</li>\n",
       "\t<li>'./scopus_2016_to_2018.bib'</li>\n",
       "\t<li>'./scopus_2019_to_2021.bib'</li>\n",
       "</ol>\n"
      ],
      "text/latex": [
       "\\begin{enumerate*}\n",
       "\\item './scopus\\_1959\\_to\\_1979.bib'\n",
       "\\item './scopus\\_1980\\_to\\_2002.bib'\n",
       "\\item './scopus\\_2003\\_to\\_2008.bib'\n",
       "\\item './scopus\\_2009\\_to\\_2012.bib'\n",
       "\\item './scopus\\_2013\\_to\\_2015.bib'\n",
       "\\item './scopus\\_2016\\_to\\_2018.bib'\n",
       "\\item './scopus\\_2019\\_to\\_2021.bib'\n",
       "\\end{enumerate*}\n"
      ],
      "text/markdown": [
       "1. './scopus_1959_to_1979.bib'\n",
       "2. './scopus_1980_to_2002.bib'\n",
       "3. './scopus_2003_to_2008.bib'\n",
       "4. './scopus_2009_to_2012.bib'\n",
       "5. './scopus_2013_to_2015.bib'\n",
       "6. './scopus_2016_to_2018.bib'\n",
       "7. './scopus_2019_to_2021.bib'\n",
       "\n",
       "\n"
      ],
      "text/plain": [
       "[1] \"./scopus_1959_to_1979.bib\" \"./scopus_1980_to_2002.bib\"\n",
       "[3] \"./scopus_2003_to_2008.bib\" \"./scopus_2009_to_2012.bib\"\n",
       "[5] \"./scopus_2013_to_2015.bib\" \"./scopus_2016_to_2018.bib\"\n",
       "[7] \"./scopus_2019_to_2021.bib\""
      ]
     },
     "metadata": {},
     "output_type": "display_data"
    }
   ],
   "source": [
    "#path_to_bib_files <- c(\"./scopus_1980_to_2002.bib\", \"./scopus_2003_to_2008.bib\", \"./scopus_2009_to_2012.bib\") #this is for test and quicker turnaround time for analysis\n",
    "path_to_bib_files <- list.files(\".\", pattern=\"\\\\.bib$\", full.names=TRUE) #switch this on for all files\n",
    "path_to_bib_files"
   ]
  },
  {
   "cell_type": "code",
   "execution_count": 6,
   "id": "e0625bef",
   "metadata": {},
   "outputs": [
    {
     "ename": "ERROR",
     "evalue": "Error in convert2df(path_to_bib_files, dbsource = \"scopus\", format = \"bibtex\"): could not find function \"convert2df\"\n",
     "output_type": "error",
     "traceback": [
      "Error in convert2df(path_to_bib_files, dbsource = \"scopus\", format = \"bibtex\"): could not find function \"convert2df\"\nTraceback:\n"
     ]
    }
   ],
   "source": [
    "#converting scopus collection into a bibliographic dataframe\n",
    "M <- convert2df(path_to_bib_files, dbsource = \"scopus\", format = \"bibtex\")"
   ]
  },
  {
   "cell_type": "code",
   "execution_count": null,
   "id": "f4a97065",
   "metadata": {},
   "outputs": [],
   "source": [
    "#inspect bibtex object\n",
    "typeof(M)"
   ]
  },
  {
   "cell_type": "code",
   "execution_count": null,
   "id": "28ca1c41",
   "metadata": {},
   "outputs": [],
   "source": [
    "colnames(M)"
   ]
  },
  {
   "cell_type": "code",
   "execution_count": null,
   "id": "6759bdf0",
   "metadata": {},
   "outputs": [],
   "source": [
    "colSums(is.na(M))"
   ]
  },
  {
   "cell_type": "code",
   "execution_count": null,
   "id": "2851de52",
   "metadata": {},
   "outputs": [],
   "source": [
    "dim(M)"
   ]
  },
  {
   "cell_type": "code",
   "execution_count": null,
   "id": "3bc3e99e",
   "metadata": {},
   "outputs": [],
   "source": [
    "print(M$AB[550]) #Abstract\n",
    "print(M$CR[550]) #References\n",
    "print(M$ID[550]) #Keywords Plus®\n",
    "print(M$DE[550]) #Author Keywords"
   ]
  },
  {
   "cell_type": "markdown",
   "id": "e230ffef",
   "metadata": {},
   "source": [
    "## Bibliometric Analysis"
   ]
  },
  {
   "cell_type": "code",
   "execution_count": null,
   "id": "5b0a74a0",
   "metadata": {},
   "outputs": [],
   "source": []
  },
  {
   "cell_type": "code",
   "execution_count": null,
   "id": "35300236",
   "metadata": {},
   "outputs": [],
   "source": []
  },
  {
   "cell_type": "code",
   "execution_count": null,
   "id": "ef936fe9",
   "metadata": {},
   "outputs": [],
   "source": []
  }
 ],
 "metadata": {
  "kernelspec": {
   "display_name": "R",
   "language": "R",
   "name": "ir"
  },
  "language_info": {
   "codemirror_mode": "r",
   "file_extension": ".r",
   "mimetype": "text/x-r-source",
   "name": "R",
   "pygments_lexer": "r",
   "version": "3.6.1"
  }
 },
 "nbformat": 4,
 "nbformat_minor": 5
}
